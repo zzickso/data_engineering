{
 "cells": [
  {
   "cell_type": "markdown",
   "id": "0ea3da0b",
   "metadata": {},
   "source": [
    "##### zeros()\n",
    "– 괄호 안에 입력된 숫자만큼의 원소를 생성하고\n",
    "0으로 초기화\n"
   ]
  },
  {
   "cell_type": "code",
   "execution_count": 6,
   "id": "bf3cea18",
   "metadata": {},
   "outputs": [
    {
     "name": "stdout",
     "output_type": "stream",
     "text": [
      "[0 0 0 0 0 0 0 0 0 0]\n"
     ]
    },
    {
     "data": {
      "text/plain": [
       "(3,)"
      ]
     },
     "execution_count": 6,
     "metadata": {},
     "output_type": "execute_result"
    }
   ],
   "source": [
    "import numpy as np\n",
    "\n",
    "y = np.zeros(shape=(10,), dtype=np.int8)\n",
    "print(y)\n",
    "x = np.array([1, 2, 3])\n",
    "type(x)\n",
    "x.shape\n"
   ]
  },
  {
   "cell_type": "markdown",
   "id": "cefe313c",
   "metadata": {},
   "source": [
    "##### mean()\n",
    "– 배열에 저장된 원소들의 평균값을 계산"
   ]
  },
  {
   "cell_type": "code",
   "execution_count": 10,
   "id": "ddcb1f26",
   "metadata": {},
   "outputs": [
    {
     "data": {
      "text/plain": [
       "2.0"
      ]
     },
     "execution_count": 10,
     "metadata": {},
     "output_type": "execute_result"
    }
   ],
   "source": [
    "import numpy as np\n",
    "\n",
    "list_1 = [1, 2, 3]\n",
    "x = np.array(list_1)\n",
    "np.mean(x)  #첫번째 방법\n",
    "x.mean()  #두번째 방법"
   ]
  },
  {
   "cell_type": "markdown",
   "id": "3230e050",
   "metadata": {},
   "source": [
    "#### array()\n",
    "– Numpy 형식으로 배열의 원소를 입력할 때는 반드시\n",
    "리스트 형식으로 입력"
   ]
  },
  {
   "cell_type": "code",
   "execution_count": 15,
   "id": "afa076bf",
   "metadata": {},
   "outputs": [
    {
     "name": "stdout",
     "output_type": "stream",
     "text": [
      "[1 2 3] [1 2 3] {1, 2, 3} {'a', 'c', 'b'}\n"
     ]
    }
   ],
   "source": [
    "x = np.array([1, 2, 3]) #리스트\n",
    "y = np.array((1, 2, 3)) #튜플\n",
    "z = np.array({1, 2, 3}) #딕셔너리\n",
    "a = np.array({\"a\", \"b\", \"c\"}) #딕셔너리\n",
    "print(x,y,z,a)"
   ]
  },
  {
   "cell_type": "markdown",
   "id": "7a1fbe1e",
   "metadata": {},
   "source": [
    "#### reshape()\n",
    "– 배열을 원하는 모양으로 생성"
   ]
  },
  {
   "cell_type": "code",
   "execution_count": 23,
   "id": "612d4183",
   "metadata": {},
   "outputs": [
    {
     "name": "stdout",
     "output_type": "stream",
     "text": [
      "[[1 2 3 4]\n",
      " [5 6 7 8]] (2, 4) [[1 2]\n",
      " [3 4]\n",
      " [5 6]\n",
      " [7 8]] (4, 2)\n"
     ]
    }
   ],
   "source": [
    "import numpy as np\n",
    "a = [1,2,3,4,5,6,7,8]\n",
    "b = np.reshape(a,(2,4))# (2,4) = 2행 4열\n",
    "c = np.reshape(a,(4,2))\n",
    "print(b, b.shape, c, c.shape) #shape = 행과 열을 보여준다"
   ]
  },
  {
   "cell_type": "markdown",
   "id": "b0da09d6",
   "metadata": {},
   "source": [
    "#### reshape()\n",
    "– 3차원 배열 만들기 \n"
   ]
  },
  {
   "cell_type": "code",
   "execution_count": 25,
   "id": "b9e254e1",
   "metadata": {},
   "outputs": [
    {
     "name": "stdout",
     "output_type": "stream",
     "text": [
      "[1 2 3 4 5 6 7 8]\n",
      "[[[1 2]\n",
      "  [3 4]]\n",
      "\n",
      " [[5 6]\n",
      "  [7 8]]]\n"
     ]
    }
   ],
   "source": [
    "a = np.arange(1,9)\n",
    "print(a)\n",
    "b = a.reshape(2, 2, 2)\n",
    "print(b)"
   ]
  },
  {
   "cell_type": "markdown",
   "id": "99b7efb4",
   "metadata": {},
   "source": [
    "#### reshape를 활용하는 경우를 보다 보면 입력인수로 -1이 들어간 경우가 종종 있다.\n",
    "reshape()의 ‘-1’이 의미하는 바는, 변경된 배열의 ‘-1’ 위치의 차원은 “원래 배열의 길이와 남은 차원으로 부터 추정”이 된다는 뜻이다."
   ]
  },
  {
   "cell_type": "code",
   "execution_count": 26,
   "id": "05261263",
   "metadata": {},
   "outputs": [
    {
     "data": {
      "text/plain": [
       "array([[ 0,  1,  2,  3],\n",
       "       [ 4,  5,  6,  7],\n",
       "       [ 8,  9, 10, 11]])"
      ]
     },
     "execution_count": 26,
     "metadata": {},
     "output_type": "execute_result"
    }
   ],
   "source": [
    "x = np.arange(12)\n",
    "x = x.reshape(3,4)\n",
    "x"
   ]
  },
  {
   "cell_type": "code",
   "execution_count": 27,
   "id": "f7dac630",
   "metadata": {},
   "outputs": [
    {
     "data": {
      "text/plain": [
       "array([[ 0,  1],\n",
       "       [ 2,  3],\n",
       "       [ 4,  5],\n",
       "       [ 6,  7],\n",
       "       [ 8,  9],\n",
       "       [10, 11]])"
      ]
     },
     "execution_count": 27,
     "metadata": {},
     "output_type": "execute_result"
    }
   ],
   "source": [
    "x.reshape(-1, 2)"
   ]
  },
  {
   "cell_type": "code",
   "execution_count": 28,
   "id": "a53128c1",
   "metadata": {},
   "outputs": [
    {
     "data": {
      "text/plain": [
       "array([[ 0,  1,  2],\n",
       "       [ 3,  4,  5],\n",
       "       [ 6,  7,  8],\n",
       "       [ 9, 10, 11]])"
      ]
     },
     "execution_count": 28,
     "metadata": {},
     "output_type": "execute_result"
    }
   ],
   "source": [
    "x.reshape(-1, 3)"
   ]
  },
  {
   "cell_type": "markdown",
   "id": "cb15c52a",
   "metadata": {},
   "source": [
    "#### ones()\n",
    "– 배열을 1의 값들로 채움\n"
   ]
  },
  {
   "cell_type": "code",
   "execution_count": 31,
   "id": "841e4c6c",
   "metadata": {},
   "outputs": [
    {
     "name": "stdout",
     "output_type": "stream",
     "text": [
      "[[1. 1. 1. 1.]\n",
      " [1. 1. 1. 1.]\n",
      " [1. 1. 1. 1.]]\n",
      "[[2. 2. 2. 2.]\n",
      " [2. 2. 2. 2.]\n",
      " [2. 2. 2. 2.]]\n"
     ]
    }
   ],
   "source": [
    "y = np.ones([3, 4])\n",
    "print(y)\n",
    "z = y*2 #ones 응용\n",
    "print(z)"
   ]
  },
  {
   "cell_type": "markdown",
   "id": "30819c79",
   "metadata": {},
   "source": [
    "#### Numpy 배열의 슬라이싱"
   ]
  },
  {
   "cell_type": "code",
   "execution_count": 44,
   "id": "a4c43fdc",
   "metadata": {},
   "outputs": [
    {
     "name": "stdout",
     "output_type": "stream",
     "text": [
      "[11 12 13 14]\n",
      "[ 3 13]\n",
      "14\n",
      "[[ 2 12]\n",
      " [ 3 13]\n",
      " [ 4 14]]\n"
     ]
    }
   ],
   "source": [
    "list1 = [[1,11],[2,12],[3,13],[4,14]]\n",
    "np_ary = np.array(list1)\n",
    "print(np_ary[:, 1])\n",
    "print(np_ary[:][2])\n",
    "print(np_ary[3][1])\n",
    "print(np_ary[1:4])   "
   ]
  },
  {
   "cell_type": "markdown",
   "id": "443efca0",
   "metadata": {},
   "source": [
    "#### math 모듈의 sqrt()"
   ]
  },
  {
   "cell_type": "code",
   "execution_count": 73,
   "id": "cb8ccf6c",
   "metadata": {},
   "outputs": [
    {
     "ename": "TypeError",
     "evalue": "must be real number, not list",
     "output_type": "error",
     "traceback": [
      "\u001b[1;31m---------------------------------------------------------------------------\u001b[0m",
      "\u001b[1;31mTypeError\u001b[0m                                 Traceback (most recent call last)",
      "\u001b[1;32m<ipython-input-73-920c31e66c09>\u001b[0m in \u001b[0;36m<module>\u001b[1;34m\u001b[0m\n\u001b[0;32m      1\u001b[0m \u001b[1;32mimport\u001b[0m \u001b[0mmath\u001b[0m\u001b[1;33m\u001b[0m\u001b[1;33m\u001b[0m\u001b[0m\n\u001b[0;32m      2\u001b[0m \u001b[0mmath\u001b[0m\u001b[1;33m.\u001b[0m\u001b[0msqrt\u001b[0m\u001b[1;33m(\u001b[0m\u001b[1;36m2\u001b[0m\u001b[1;33m)\u001b[0m\u001b[1;33m\u001b[0m\u001b[1;33m\u001b[0m\u001b[0m\n\u001b[1;32m----> 3\u001b[1;33m \u001b[0mmath\u001b[0m\u001b[1;33m.\u001b[0m\u001b[0msqrt\u001b[0m\u001b[1;33m(\u001b[0m\u001b[1;33m[\u001b[0m\u001b[1;36m2\u001b[0m\u001b[1;33m]\u001b[0m\u001b[1;33m)\u001b[0m \u001b[1;31m#math 모듈은 리스트를 인식하지 못한다\u001b[0m\u001b[1;33m\u001b[0m\u001b[1;33m\u001b[0m\u001b[0m\n\u001b[0m",
      "\u001b[1;31mTypeError\u001b[0m: must be real number, not list"
     ]
    }
   ],
   "source": [
    "import math\n",
    "math.sqrt(2)\n",
    "math.sqrt([2]) #math 모듈은 리스트를 인식하지 못한다"
   ]
  },
  {
   "cell_type": "markdown",
   "id": "66a4ec6b",
   "metadata": {},
   "source": [
    "#### Numpy의 sqrt()"
   ]
  },
  {
   "cell_type": "code",
   "execution_count": 52,
   "id": "7b750c15",
   "metadata": {},
   "outputs": [
    {
     "name": "stdout",
     "output_type": "stream",
     "text": [
      "1.4142135623730951 [1.41421356 1.73205081 2.        ]\n"
     ]
    }
   ],
   "source": [
    "import numpy as np \n",
    "a = np.sqrt(2)\n",
    "b = np.sqrt([2, 3, 4]) #numpy는 리스트 값도 인식한다\n",
    "print(a, b)"
   ]
  },
  {
   "cell_type": "code",
   "execution_count": 64,
   "id": "ff2d2696",
   "metadata": {},
   "outputs": [
    {
     "name": "stdout",
     "output_type": "stream",
     "text": [
      "[[4. 4. 4. 4. 4.]\n",
      " [4. 4. 4. 4. 4.]\n",
      " [4. 4. 4. 4. 4.]]\n"
     ]
    }
   ],
   "source": [
    "import numpy as np\n",
    "x = np.zeros(15)\n",
    "y = np.zeros([5,3])\n",
    "z = y.reshape([3,5])\n",
    "z+= 4\n",
    "print(z)"
   ]
  },
  {
   "cell_type": "markdown",
   "id": "33b12457",
   "metadata": {},
   "source": [
    "#### 전치행렬 transpose()\n",
    "##### – 행과 열을 교환하여 얻어지는 행렬\n",
    "– 행렬의 값들을 주대각선을 기준으로 위치를 바꾼 행렬을 의미\n"
   ]
  },
  {
   "cell_type": "code",
   "execution_count": 67,
   "id": "7b117e80",
   "metadata": {},
   "outputs": [
    {
     "name": "stdout",
     "output_type": "stream",
     "text": [
      "[[1 3]\n",
      " [2 4]]\n"
     ]
    }
   ],
   "source": [
    "import numpy as np\n",
    "ary = np.array([[1,2],[3,4]])\n",
    "print(ary.transpose())"
   ]
  },
  {
   "cell_type": "code",
   "execution_count": 69,
   "id": "2decc8a9",
   "metadata": {},
   "outputs": [
    {
     "name": "stdout",
     "output_type": "stream",
     "text": [
      "[[   1  222]\n",
      " [   5 4444]]\n"
     ]
    }
   ],
   "source": [
    "import numpy as np\n",
    "ary = np.array([[1,5],[222,4444]])\n",
    "print(ary.transpose())"
   ]
  },
  {
   "cell_type": "markdown",
   "id": "d4dcfa35",
   "metadata": {},
   "source": [
    "#### 2개 배열에 대한 연산\n",
    "###### – 2개 배열에 저장된 내용을 인덱스별로 계산\n",
    "###### – 선형대수학의 사칙연산과 동일하게 작동\n",
    "###### – 곱셈도 같은 원리로 동작"
   ]
  },
  {
   "cell_type": "code",
   "execution_count": 72,
   "id": "5663680a",
   "metadata": {},
   "outputs": [
    {
     "name": "stdout",
     "output_type": "stream",
     "text": [
      "[ 4 10 18]\n",
      "[ 5 11 19]\n",
      "[ 3  9 17]\n"
     ]
    }
   ],
   "source": [
    "import numpy as np\n",
    "x = np.array([1,2,3])\n",
    "y = np.array([4,5,6])\n",
    "z = x * y\n",
    "w = z+1\n",
    "r = z-1\n",
    "print(z)\n",
    "print(w)\n",
    "print(r)"
   ]
  },
  {
   "cell_type": "markdown",
   "id": "67037319",
   "metadata": {},
   "source": [
    "#### 인덱싱"
   ]
  },
  {
   "cell_type": "code",
   "execution_count": 76,
   "id": "758ffb59",
   "metadata": {},
   "outputs": [
    {
     "name": "stdout",
     "output_type": "stream",
     "text": [
      "[11 22 33]\n",
      "[  2  22 222]\n",
      "[11 22 33]\n"
     ]
    }
   ],
   "source": [
    "x = np.array([[1,2,3],[11,22,33],[111,222,333]])\n",
    "print(x[1])  # x배열의 인덱스 1번의 내용을 출력\n",
    "print(x[:,1]) # 각 1차원 배열의 1번의 내용을 출력\n",
    "print(x[1,:]) # x[1,:] = x[1]"
   ]
  },
  {
   "cell_type": "code",
   "execution_count": 83,
   "id": "e02ecc4e",
   "metadata": {},
   "outputs": [
    {
     "name": "stdout",
     "output_type": "stream",
     "text": [
      "[ 9 11 13]\n",
      "[ 9 11 13]\n",
      "[16 45 80]\n"
     ]
    }
   ],
   "source": [
    "x = np.array([[1,2,3],[4,5,6],[7,8,9]])\n",
    "y = np.array([[2,3,4],[5,6,7],[8,9,10]])\n",
    "print(x[0,:]+y[2,:])\n",
    "print(x[0]+y[2])\n",
    "print(x[:,1] * y[2,:])\n"
   ]
  },
  {
   "cell_type": "code",
   "execution_count": 84,
   "id": "902ca1ac",
   "metadata": {},
   "outputs": [
    {
     "name": "stdout",
     "output_type": "stream",
     "text": [
      "[False False False  True  True  True]\n"
     ]
    }
   ],
   "source": [
    "a = np.array([10,20,30,40,50,60])\n",
    "b = a >30\n",
    "print(b)"
   ]
  },
  {
   "cell_type": "markdown",
   "id": "2fa98f10",
   "metadata": {},
   "source": [
    "#### random()"
   ]
  },
  {
   "cell_type": "code",
   "execution_count": 91,
   "id": "9baf0130",
   "metadata": {},
   "outputs": [
    {
     "name": "stdout",
     "output_type": "stream",
     "text": [
      "[0.26420912 0.0910046  0.12617494 0.34166517 0.82024645]\n"
     ]
    }
   ],
   "source": [
    "import numpy as np\n",
    "\n",
    "ary = np.random.random(5)\n",
    "print(ary)"
   ]
  },
  {
   "cell_type": "code",
   "execution_count": 95,
   "id": "03d93f2a",
   "metadata": {},
   "outputs": [
    {
     "name": "stdout",
     "output_type": "stream",
     "text": [
      "[0.52693888 0.2556307  0.01012691 0.5056395  0.58385291]\n",
      "[[[0.9886864  0.18013258 0.68260861 0.0392867 ]\n",
      "  [0.81230814 0.98485701 0.13122575 0.20655495]\n",
      "  [0.37580474 0.9829665  0.7285995  0.49999291]]] (1, 3, 4)\n"
     ]
    }
   ],
   "source": [
    "#만들어진 난수 어레이는 주어진 값에 의해 결정되며, [0, 1) 범위에서 균일한 분포를 갖습니다.\n",
    "a = np.random.rand(5)\n",
    "print(a)\n",
    "\n",
    "b = np.random.rand(1, 3, 4)\n",
    "print(b, b.shape)"
   ]
  },
  {
   "cell_type": "code",
   "execution_count": 117,
   "id": "cf6fae27",
   "metadata": {},
   "outputs": [
    {
     "name": "stdout",
     "output_type": "stream",
     "text": [
      "[1 1 0 1 1 1 1]\n",
      "[4 2 5 4 2]\n",
      "[[1 3 4]\n",
      " [2 1 4]]\n"
     ]
    }
   ],
   "source": [
    "#randint() 범위 지정과 size는 갯수를 뜻한다.\n",
    "a = np.random.randint(2, size=7)\n",
    "print(a)\n",
    "\n",
    "b = np.random.randint(2, 6, size=5)\n",
    "print(b)\n",
    "\n",
    "c = np.random.randint(1, 5, size=(2, 3))\n",
    "print(c)"
   ]
  },
  {
   "cell_type": "code",
   "execution_count": 123,
   "id": "302d7b08",
   "metadata": {},
   "outputs": [
    {
     "name": "stdout",
     "output_type": "stream",
     "text": [
      "[[0.5488135  0.71518937 0.60276338]\n",
      " [0.54488318 0.4236548  0.64589411]]\n"
     ]
    }
   ],
   "source": [
    "import numpy as np\n",
    "np.random.seed(0) #seed 는 고정값\n",
    "print(np.random.rand(2,3))"
   ]
  },
  {
   "cell_type": "markdown",
   "id": "882daf17",
   "metadata": {},
   "source": [
    "#### any() 와 all()의 비교"
   ]
  },
  {
   "cell_type": "code",
   "execution_count": 139,
   "id": "b4196132",
   "metadata": {},
   "outputs": [
    {
     "name": "stdout",
     "output_type": "stream",
     "text": [
      "[ True False  True  True  True]\n",
      "True\n"
     ]
    }
   ],
   "source": [
    "a = np.random.rand(5)\n",
    "print(a>0.12)\n",
    "print(np.any(a>0.12))"
   ]
  },
  {
   "cell_type": "markdown",
   "id": "b13810a8",
   "metadata": {},
   "source": [
    "#### linspace()\n",
    "시작과 끝의 값을 지정하고 그 사이의 값을 균등하게 배분"
   ]
  },
  {
   "cell_type": "code",
   "execution_count": 151,
   "id": "1052e603",
   "metadata": {},
   "outputs": [
    {
     "data": {
      "text/plain": [
       "array([   0.,  278.,  556.,  834., 1112.])"
      ]
     },
     "execution_count": 151,
     "metadata": {},
     "output_type": "execute_result"
    }
   ],
   "source": [
    "np.linspace(0, 1112, 5) #(시작값, 끝 값, 분배 수)"
   ]
  },
  {
   "cell_type": "code",
   "execution_count": 156,
   "id": "2cd87f6e",
   "metadata": {},
   "outputs": [
    {
     "data": {
      "text/plain": [
       "(array([  0.,  25.,  50.,  75., 100.]), 25.0)"
      ]
     },
     "execution_count": 156,
     "metadata": {},
     "output_type": "execute_result"
    }
   ],
   "source": [
    "#retstep=True이면 샘플 간의 간격을 출력\n",
    "np.linspace(0,100,5, retstep=True)"
   ]
  },
  {
   "cell_type": "code",
   "execution_count": 157,
   "id": "e95d8e0d",
   "metadata": {},
   "outputs": [
    {
     "data": {
      "text/plain": [
       "array([ 0., 20., 40., 60., 80.])"
      ]
     },
     "execution_count": 157,
     "metadata": {},
     "output_type": "execute_result"
    }
   ],
   "source": [
    "#endpoint=False이면 마지막 값을 제외하고 샘플값을 만들어냄\n",
    "np.linspace(0,100,5, endpoint=False)"
   ]
  },
  {
   "cell_type": "code",
   "execution_count": null,
   "id": "617d212d",
   "metadata": {},
   "outputs": [],
   "source": []
  }
 ],
 "metadata": {
  "kernelspec": {
   "display_name": "Python 3",
   "language": "python",
   "name": "python3"
  },
  "language_info": {
   "codemirror_mode": {
    "name": "ipython",
    "version": 3
   },
   "file_extension": ".py",
   "mimetype": "text/x-python",
   "name": "python",
   "nbconvert_exporter": "python",
   "pygments_lexer": "ipython3",
   "version": "3.8.9"
  }
 },
 "nbformat": 4,
 "nbformat_minor": 5
}
